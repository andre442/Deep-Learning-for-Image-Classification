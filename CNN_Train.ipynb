{
  "nbformat": 4,
  "nbformat_minor": 0,
  "metadata": {
    "kernelspec": {
      "display_name": "Python 3",
      "language": "python",
      "name": "python3"
    },
    "language_info": {
      "codemirror_mode": {
        "name": "ipython",
        "version": 3
      },
      "file_extension": ".py",
      "mimetype": "text/x-python",
      "name": "python",
      "nbconvert_exporter": "python",
      "pygments_lexer": "ipython3",
      "version": "3.8.3"
    },
    "colab": {
      "name": "Lab3_melhor_resultado.ipynb",
      "provenance": [],
      "collapsed_sections": []
    },
    "accelerator": "GPU"
  },
  "cells": [
    {
      "cell_type": "markdown",
      "metadata": {
        "id": "gDqbh_xG8pro"
      },
      "source": [
        "# LAB 3 _ PT2"
      ]
    },
    {
      "cell_type": "markdown",
      "metadata": {
        "id": "Vyye7zZ8iYL1"
      },
      "source": [
        "#1. Importando arquivos do Google Drive\n"
      ]
    },
    {
      "cell_type": "code",
      "metadata": {
        "colab": {
          "base_uri": "https://localhost:8080/"
        },
        "id": "Kd7nSfgGiV0O",
        "outputId": "59a3c405-3b0f-49b8-a9b3-4876648f0c40"
      },
      "source": [
        "from google.colab import drive\n",
        "drive.mount('/content/drive', force_remount=True)"
      ],
      "execution_count": null,
      "outputs": [
        {
          "output_type": "stream",
          "text": [
            "Mounted at /content/drive\n"
          ],
          "name": "stdout"
        }
      ]
    },
    {
      "cell_type": "markdown",
      "metadata": {
        "id": "VR35arpQ8prs"
      },
      "source": [
        "# Importando módulos "
      ]
    },
    {
      "cell_type": "code",
      "metadata": {
        "id": "OU4M5xkq8prs",
        "colab": {
          "base_uri": "https://localhost:8080/"
        },
        "outputId": "193c7963-6915-4ff7-bbe9-0438a7fa1ea5"
      },
      "source": [
        "import numpy as np\n",
        "import cv2\n",
        "import matplotlib.pyplot as plt\n",
        "from sklearn.metrics import confusion_matrix\n",
        "from PIL import Image\n",
        "import keras\n",
        "from keras.datasets import mnist\n",
        "from keras.models import Sequential\n",
        "from keras.layers import Dense, Dropout, Flatten\n",
        "from keras.layers import Conv2D, MaxPooling2D\n",
        "from keras import backend as K\n",
        "from keras.applications.inception_v3 import InceptionV3\n",
        "from keras.applications.inception_v3 import preprocess_input\n",
        "from keras.models import Model\n",
        "from keras.layers import GlobalAveragePooling2D\n",
        "from keras.preprocessing import image\n",
        "from keras import utils as np_utils\n",
        "print('Done')"
      ],
      "execution_count": null,
      "outputs": [
        {
          "output_type": "stream",
          "text": [
            "Done\n"
          ],
          "name": "stdout"
        }
      ]
    },
    {
      "cell_type": "markdown",
      "metadata": {
        "id": "ffcGb-pgh-OR"
      },
      "source": [
        "#Verificando GPU"
      ]
    },
    {
      "cell_type": "code",
      "metadata": {
        "colab": {
          "base_uri": "https://localhost:8080/"
        },
        "id": "35-GNarH9nwR",
        "outputId": "79d6e8d9-86f8-42e0-c006-48dd19d0022c"
      },
      "source": [
        "import tensorflow as tf\n",
        "device_name = tf.test.gpu_device_name()\n",
        "if device_name != '/device:GPU:0':\n",
        "  raise SystemError('GPU device not found')\n",
        "print('Found GPU at: {}'.format(device_name))"
      ],
      "execution_count": null,
      "outputs": [
        {
          "output_type": "stream",
          "text": [
            "Found GPU at: /device:GPU:0\n"
          ],
          "name": "stdout"
        }
      ]
    },
    {
      "cell_type": "code",
      "metadata": {
        "id": "HdgULoWDNRwh",
        "colab": {
          "base_uri": "https://localhost:8080/"
        },
        "outputId": "91cf117b-e414-4dd4-b19c-b7431838fbfb"
      },
      "source": [
        "!nvidia-smi"
      ],
      "execution_count": null,
      "outputs": [
        {
          "output_type": "stream",
          "text": [
            "Fri Jun 25 23:40:40 2021       \n",
            "+-----------------------------------------------------------------------------+\n",
            "| NVIDIA-SMI 465.27       Driver Version: 460.32.03    CUDA Version: 11.2     |\n",
            "|-------------------------------+----------------------+----------------------+\n",
            "| GPU  Name        Persistence-M| Bus-Id        Disp.A | Volatile Uncorr. ECC |\n",
            "| Fan  Temp  Perf  Pwr:Usage/Cap|         Memory-Usage | GPU-Util  Compute M. |\n",
            "|                               |                      |               MIG M. |\n",
            "|===============================+======================+======================|\n",
            "|   0  Tesla T4            Off  | 00000000:00:04.0 Off |                    0 |\n",
            "| N/A   60C    P0    30W /  70W |    222MiB / 15109MiB |      0%      Default |\n",
            "|                               |                      |                  N/A |\n",
            "+-------------------------------+----------------------+----------------------+\n",
            "                                                                               \n",
            "+-----------------------------------------------------------------------------+\n",
            "| Processes:                                                                  |\n",
            "|  GPU   GI   CI        PID   Type   Process name                  GPU Memory |\n",
            "|        ID   ID                                                   Usage      |\n",
            "|=============================================================================|\n",
            "+-----------------------------------------------------------------------------+\n"
          ],
          "name": "stdout"
        }
      ]
    },
    {
      "cell_type": "markdown",
      "metadata": {
        "id": "p4rgHSaD8pru"
      },
      "source": [
        "#Definindo algumas variáveis\n",
        "(número de classes, épocas, tamanho dos batch, **arquivos de entrada**...)"
      ]
    },
    {
      "cell_type": "code",
      "metadata": {
        "id": "B64OweGQ8pru",
        "colab": {
          "base_uri": "https://localhost:8080/"
        },
        "outputId": "99e40f00-2e2a-4581-bf69-6b321697aee7"
      },
      "source": [
        "####### Google Drive\n",
        "drive_path = '/content/drive/My Drive/Colab Notebooks/bases_lab3/base_augmented_64/'\n",
        "\n",
        "## Classes\n",
        "num_classes = 12\n",
        "\n",
        "## Batch Size\n",
        "batch_size = 64\n",
        "\n",
        "## Epochs\n",
        "n_epochs = 106\n",
        "\n",
        "####### Input Image Dimension\n",
        "img_rows, img_cols = 64, 64\n",
        "\n",
        "#Input Shape\n",
        "input_shape = (img_rows, img_cols, 1)\n",
        "\n",
        "print('Done')"
      ],
      "execution_count": null,
      "outputs": [
        {
          "output_type": "stream",
          "text": [
            "Done\n"
          ],
          "name": "stdout"
        }
      ]
    },
    {
      "cell_type": "markdown",
      "metadata": {
        "id": "dw8Q6owcnD8j"
      },
      "source": [
        "#Carregando arquivos da base"
      ]
    },
    {
      "cell_type": "code",
      "metadata": {
        "colab": {
          "base_uri": "https://localhost:8080/"
        },
        "id": "surADVr8m8rC",
        "outputId": "a05c98be-fd34-4c97-be12-31b5f92be090"
      },
      "source": [
        "x_train_a =  drive_path + 'x_train.npy'\n",
        "x_test_a = drive_path + 'x_test.npy'\n",
        "y_train_a = drive_path + 'y_train.npy'\n",
        "y_test_a = drive_path + 'y_test.npy'\n",
        "label_a = drive_path + 'label.npy'\n",
        "x_train = np.load(x_train_a)\n",
        "x_test = np.load(x_test_a)\n",
        "y_train = np.load(y_train_a)\n",
        "y_test = np.load(y_test_a)\n",
        "label = np.load(label_a)\n",
        "print('Done')"
      ],
      "execution_count": null,
      "outputs": [
        {
          "output_type": "stream",
          "text": [
            "Done\n"
          ],
          "name": "stdout"
        }
      ]
    },
    {
      "cell_type": "code",
      "metadata": {
        "colab": {
          "base_uri": "https://localhost:8080/"
        },
        "id": "DRwif4lU5vdX",
        "outputId": "65eccea2-6db0-4c96-9e49-2cd6a9c2b5b2"
      },
      "source": [
        "print(x_train.shape)\n",
        "print(x_test.shape)\n",
        "print(y_train.shape)\n",
        "print(y_test.shape)"
      ],
      "execution_count": null,
      "outputs": [
        {
          "output_type": "stream",
          "text": [
            "(4734, 64, 64, 1)\n",
            "(401, 64, 64, 1)\n",
            "(4734, 12)\n",
            "(401, 12)\n"
          ],
          "name": "stdout"
        }
      ]
    },
    {
      "cell_type": "markdown",
      "metadata": {
        "id": "Yr-yybC_8pry"
      },
      "source": [
        "# **2. Definindo o modelo da CNN**"
      ]
    },
    {
      "cell_type": "code",
      "metadata": {
        "id": "8oQ8DktB8pry",
        "colab": {
          "base_uri": "https://localhost:8080/"
        },
        "outputId": "a276d627-a085-4685-f305-715d146642cb"
      },
      "source": [
        "## Create CNN model\n",
        "model = Sequential()\n",
        "model.add(Conv2D(32, kernel_size=(3, 3), activation='relu', input_shape=input_shape))\n",
        "model.add(Conv2D(64, (3, 3), activation='relu'))\n",
        "model.add(Dropout(0.5))##########camada adicional de dropout*********************\n",
        "model.add(Conv2D(64, (3, 3), activation='relu'))##########camada adicional\n",
        "model.add(MaxPooling2D(pool_size=(2, 2)))\n",
        "model.add(Conv2D(64, (3, 3), activation='relu'))##########camada adicional\n",
        "model.add(Dropout(0.25))\n",
        "model.add(Flatten())    ########vetor de caracteristicas\n",
        "model.add(Dense(128, activation='relu'))\n",
        "model.add(Dropout(0.5))\n",
        "model.add(Dense(num_classes, activation='softmax'))\n",
        "\n",
        "## Print CNN layers\n",
        "print ('Network structure ----------------------------------')\n",
        "\n",
        "#for i, layer in enumerate(model.layers):\n",
        "#     print(i,layer.name)\n",
        "#     if hasattr(layer, 'output_shape'):\n",
        "#         print(layer.output_shape)\n",
        "\n",
        "model.summary()\n",
        "\n",
        "print ('----------------------------------------------------')"
      ],
      "execution_count": null,
      "outputs": [
        {
          "output_type": "stream",
          "text": [
            "Network structure ----------------------------------\n",
            "Model: \"sequential\"\n",
            "_________________________________________________________________\n",
            "Layer (type)                 Output Shape              Param #   \n",
            "=================================================================\n",
            "conv2d (Conv2D)              (None, 62, 62, 32)        320       \n",
            "_________________________________________________________________\n",
            "conv2d_1 (Conv2D)            (None, 60, 60, 64)        18496     \n",
            "_________________________________________________________________\n",
            "dropout (Dropout)            (None, 60, 60, 64)        0         \n",
            "_________________________________________________________________\n",
            "conv2d_2 (Conv2D)            (None, 58, 58, 64)        36928     \n",
            "_________________________________________________________________\n",
            "max_pooling2d (MaxPooling2D) (None, 29, 29, 64)        0         \n",
            "_________________________________________________________________\n",
            "conv2d_3 (Conv2D)            (None, 27, 27, 64)        36928     \n",
            "_________________________________________________________________\n",
            "dropout_1 (Dropout)          (None, 27, 27, 64)        0         \n",
            "_________________________________________________________________\n",
            "flatten (Flatten)            (None, 46656)             0         \n",
            "_________________________________________________________________\n",
            "dense (Dense)                (None, 128)               5972096   \n",
            "_________________________________________________________________\n",
            "dropout_2 (Dropout)          (None, 128)               0         \n",
            "_________________________________________________________________\n",
            "dense_1 (Dense)              (None, 12)                1548      \n",
            "=================================================================\n",
            "Total params: 6,066,316\n",
            "Trainable params: 6,066,316\n",
            "Non-trainable params: 0\n",
            "_________________________________________________________________\n",
            "----------------------------------------------------\n"
          ],
          "name": "stdout"
        }
      ]
    },
    {
      "cell_type": "markdown",
      "metadata": {
        "id": "0NdZL4DN8prz"
      },
      "source": [
        "# **3. Configurando e treinando a CNN**"
      ]
    },
    {
      "cell_type": "code",
      "metadata": {
        "id": "x73RwJYV8prz",
        "colab": {
          "base_uri": "https://localhost:8080/"
        },
        "outputId": "da06a846-f0a8-4bf8-f29a-5e22548d3585"
      },
      "source": [
        "## Configures the model for training\n",
        "model.compile(metrics=['accuracy'], loss=keras.losses.categorical_crossentropy, optimizer=keras.optimizers.SGD(learning_rate=0.003))\n",
        "\n",
        "## Trains the model\n",
        "history = model.fit(x=x_train, y=y_train, batch_size=batch_size, shuffle=True, epochs=n_epochs, verbose=1, validation_data=(x_test, y_test))\n",
        "\n",
        "score = model.evaluate(x_test, y_test, verbose=0)\n",
        "print ('\\n----------------------------------------------------\\n')\n",
        "print ('Test loss:', score[0])\n",
        "print ('Test accuracy:', score[1])\n",
        "print ('\\n----------------------------------------------------\\n')\n",
        "\n",
        "## Classes predicted\n",
        "#print (model.predict_classes(x_test)) \n",
        "\n",
        "## Classes probability\n",
        "#print (model.predict_proba(x_test)) \n"
      ],
      "execution_count": null,
      "outputs": [
        {
          "output_type": "stream",
          "text": [
            "Epoch 1/106\n",
            "74/74 [==============================] - 19s 52ms/step - loss: 2.4858 - accuracy: 0.1092 - val_loss: 2.4681 - val_accuracy: 0.1421\n",
            "Epoch 2/106\n",
            "74/74 [==============================] - 3s 35ms/step - loss: 2.4599 - accuracy: 0.1279 - val_loss: 2.4360 - val_accuracy: 0.1646\n",
            "Epoch 3/106\n",
            "74/74 [==============================] - 3s 36ms/step - loss: 2.4098 - accuracy: 0.1544 - val_loss: 2.3495 - val_accuracy: 0.2843\n",
            "Epoch 4/106\n",
            "74/74 [==============================] - 3s 35ms/step - loss: 2.2953 - accuracy: 0.1952 - val_loss: 2.2085 - val_accuracy: 0.3591\n",
            "Epoch 5/106\n",
            "74/74 [==============================] - 3s 35ms/step - loss: 2.1923 - accuracy: 0.2264 - val_loss: 2.1048 - val_accuracy: 0.3766\n",
            "Epoch 6/106\n",
            "74/74 [==============================] - 3s 35ms/step - loss: 2.1067 - accuracy: 0.2597 - val_loss: 2.0124 - val_accuracy: 0.3416\n",
            "Epoch 7/106\n",
            "74/74 [==============================] - 3s 35ms/step - loss: 1.9913 - accuracy: 0.2993 - val_loss: 1.8594 - val_accuracy: 0.4489\n",
            "Epoch 8/106\n",
            "74/74 [==============================] - 3s 35ms/step - loss: 1.8966 - accuracy: 0.3330 - val_loss: 1.7202 - val_accuracy: 0.5761\n",
            "Epoch 9/106\n",
            "74/74 [==============================] - 3s 35ms/step - loss: 1.7538 - accuracy: 0.4094 - val_loss: 1.6003 - val_accuracy: 0.5387\n",
            "Epoch 10/106\n",
            "74/74 [==============================] - 3s 35ms/step - loss: 1.6800 - accuracy: 0.4444 - val_loss: 1.4361 - val_accuracy: 0.6259\n",
            "Epoch 11/106\n",
            "74/74 [==============================] - 3s 35ms/step - loss: 1.5500 - accuracy: 0.4806 - val_loss: 1.3503 - val_accuracy: 0.6110\n",
            "Epoch 12/106\n",
            "74/74 [==============================] - 3s 35ms/step - loss: 1.5074 - accuracy: 0.5001 - val_loss: 1.2620 - val_accuracy: 0.6584\n",
            "Epoch 13/106\n",
            "74/74 [==============================] - 3s 35ms/step - loss: 1.4390 - accuracy: 0.5196 - val_loss: 1.2089 - val_accuracy: 0.6858\n",
            "Epoch 14/106\n",
            "74/74 [==============================] - 3s 35ms/step - loss: 1.3809 - accuracy: 0.5404 - val_loss: 1.1587 - val_accuracy: 0.6459\n",
            "Epoch 15/106\n",
            "74/74 [==============================] - 3s 35ms/step - loss: 1.3464 - accuracy: 0.5540 - val_loss: 1.1035 - val_accuracy: 0.6858\n",
            "Epoch 16/106\n",
            "74/74 [==============================] - 3s 35ms/step - loss: 1.3006 - accuracy: 0.5778 - val_loss: 1.0488 - val_accuracy: 0.6833\n",
            "Epoch 17/106\n",
            "74/74 [==============================] - 3s 35ms/step - loss: 1.2704 - accuracy: 0.5872 - val_loss: 1.0406 - val_accuracy: 0.6758\n",
            "Epoch 18/106\n",
            "74/74 [==============================] - 3s 36ms/step - loss: 1.2431 - accuracy: 0.5983 - val_loss: 0.9737 - val_accuracy: 0.7107\n",
            "Epoch 19/106\n",
            "74/74 [==============================] - 3s 35ms/step - loss: 1.1970 - accuracy: 0.5908 - val_loss: 0.9835 - val_accuracy: 0.7082\n",
            "Epoch 20/106\n",
            "74/74 [==============================] - 3s 35ms/step - loss: 1.1461 - accuracy: 0.6295 - val_loss: 0.9496 - val_accuracy: 0.7107\n",
            "Epoch 21/106\n",
            "74/74 [==============================] - 3s 35ms/step - loss: 1.1307 - accuracy: 0.6239 - val_loss: 0.9484 - val_accuracy: 0.7007\n",
            "Epoch 22/106\n",
            "74/74 [==============================] - 3s 35ms/step - loss: 1.1498 - accuracy: 0.6201 - val_loss: 0.9082 - val_accuracy: 0.7207\n",
            "Epoch 23/106\n",
            "74/74 [==============================] - 3s 35ms/step - loss: 1.1348 - accuracy: 0.6239 - val_loss: 0.8953 - val_accuracy: 0.7357\n",
            "Epoch 24/106\n",
            "74/74 [==============================] - 3s 35ms/step - loss: 1.1061 - accuracy: 0.6409 - val_loss: 0.8678 - val_accuracy: 0.7157\n",
            "Epoch 25/106\n",
            "74/74 [==============================] - 3s 35ms/step - loss: 1.0658 - accuracy: 0.6438 - val_loss: 0.8790 - val_accuracy: 0.7282\n",
            "Epoch 26/106\n",
            "74/74 [==============================] - 3s 36ms/step - loss: 1.0209 - accuracy: 0.6616 - val_loss: 0.8431 - val_accuracy: 0.7182\n",
            "Epoch 27/106\n",
            "74/74 [==============================] - 3s 36ms/step - loss: 1.0412 - accuracy: 0.6556 - val_loss: 0.8476 - val_accuracy: 0.7257\n",
            "Epoch 28/106\n",
            "74/74 [==============================] - 3s 35ms/step - loss: 1.0178 - accuracy: 0.6591 - val_loss: 0.8461 - val_accuracy: 0.7132\n",
            "Epoch 29/106\n",
            "74/74 [==============================] - 3s 37ms/step - loss: 0.9982 - accuracy: 0.6743 - val_loss: 0.8200 - val_accuracy: 0.7382\n",
            "Epoch 30/106\n",
            "74/74 [==============================] - 3s 36ms/step - loss: 0.9780 - accuracy: 0.6775 - val_loss: 0.8241 - val_accuracy: 0.7257\n",
            "Epoch 31/106\n",
            "74/74 [==============================] - 3s 35ms/step - loss: 0.9696 - accuracy: 0.6867 - val_loss: 0.8222 - val_accuracy: 0.7506\n",
            "Epoch 32/106\n",
            "74/74 [==============================] - 3s 36ms/step - loss: 0.9607 - accuracy: 0.6923 - val_loss: 0.8061 - val_accuracy: 0.7481\n",
            "Epoch 33/106\n",
            "74/74 [==============================] - 3s 37ms/step - loss: 0.9616 - accuracy: 0.6832 - val_loss: 0.7836 - val_accuracy: 0.7456\n",
            "Epoch 34/106\n",
            "74/74 [==============================] - 3s 35ms/step - loss: 0.9331 - accuracy: 0.6939 - val_loss: 0.7721 - val_accuracy: 0.7531\n",
            "Epoch 35/106\n",
            "74/74 [==============================] - 3s 36ms/step - loss: 0.8941 - accuracy: 0.6918 - val_loss: 0.7722 - val_accuracy: 0.7481\n",
            "Epoch 36/106\n",
            "74/74 [==============================] - 3s 36ms/step - loss: 0.9128 - accuracy: 0.6969 - val_loss: 0.7406 - val_accuracy: 0.7531\n",
            "Epoch 37/106\n",
            "74/74 [==============================] - 3s 36ms/step - loss: 0.8621 - accuracy: 0.7186 - val_loss: 0.7484 - val_accuracy: 0.7631\n",
            "Epoch 38/106\n",
            "74/74 [==============================] - 3s 36ms/step - loss: 0.8790 - accuracy: 0.7113 - val_loss: 0.7257 - val_accuracy: 0.7631\n",
            "Epoch 39/106\n",
            "74/74 [==============================] - 3s 36ms/step - loss: 0.8412 - accuracy: 0.7123 - val_loss: 0.7129 - val_accuracy: 0.7581\n",
            "Epoch 40/106\n",
            "74/74 [==============================] - 3s 36ms/step - loss: 0.8618 - accuracy: 0.7063 - val_loss: 0.7039 - val_accuracy: 0.7357\n",
            "Epoch 41/106\n",
            "74/74 [==============================] - 3s 36ms/step - loss: 0.8184 - accuracy: 0.7169 - val_loss: 0.7040 - val_accuracy: 0.7631\n",
            "Epoch 42/106\n",
            "74/74 [==============================] - 3s 36ms/step - loss: 0.8147 - accuracy: 0.7289 - val_loss: 0.6958 - val_accuracy: 0.7756\n",
            "Epoch 43/106\n",
            "74/74 [==============================] - 3s 36ms/step - loss: 0.8062 - accuracy: 0.7266 - val_loss: 0.6932 - val_accuracy: 0.7656\n",
            "Epoch 44/106\n",
            "74/74 [==============================] - 3s 36ms/step - loss: 0.8140 - accuracy: 0.7109 - val_loss: 0.6593 - val_accuracy: 0.7830\n",
            "Epoch 45/106\n",
            "74/74 [==============================] - 3s 36ms/step - loss: 0.7914 - accuracy: 0.7396 - val_loss: 0.6913 - val_accuracy: 0.7805\n",
            "Epoch 46/106\n",
            "74/74 [==============================] - 3s 37ms/step - loss: 0.7606 - accuracy: 0.7359 - val_loss: 0.6691 - val_accuracy: 0.7855\n",
            "Epoch 47/106\n",
            "74/74 [==============================] - 3s 36ms/step - loss: 0.7531 - accuracy: 0.7365 - val_loss: 0.6573 - val_accuracy: 0.7880\n",
            "Epoch 48/106\n",
            "74/74 [==============================] - 3s 36ms/step - loss: 0.7554 - accuracy: 0.7503 - val_loss: 0.6588 - val_accuracy: 0.7731\n",
            "Epoch 49/106\n",
            "74/74 [==============================] - 3s 36ms/step - loss: 0.6902 - accuracy: 0.7645 - val_loss: 0.6596 - val_accuracy: 0.7905\n",
            "Epoch 50/106\n",
            "74/74 [==============================] - 3s 36ms/step - loss: 0.7198 - accuracy: 0.7620 - val_loss: 0.6466 - val_accuracy: 0.7756\n",
            "Epoch 51/106\n",
            "74/74 [==============================] - 3s 36ms/step - loss: 0.7017 - accuracy: 0.7540 - val_loss: 0.6491 - val_accuracy: 0.7830\n",
            "Epoch 52/106\n",
            "74/74 [==============================] - 3s 36ms/step - loss: 0.6567 - accuracy: 0.7739 - val_loss: 0.6321 - val_accuracy: 0.7880\n",
            "Epoch 53/106\n",
            "74/74 [==============================] - 3s 36ms/step - loss: 0.6722 - accuracy: 0.7717 - val_loss: 0.6424 - val_accuracy: 0.7855\n",
            "Epoch 54/106\n",
            "74/74 [==============================] - 3s 36ms/step - loss: 0.6537 - accuracy: 0.7729 - val_loss: 0.6321 - val_accuracy: 0.7955\n",
            "Epoch 55/106\n",
            "74/74 [==============================] - 3s 36ms/step - loss: 0.6639 - accuracy: 0.7682 - val_loss: 0.6291 - val_accuracy: 0.7880\n",
            "Epoch 56/106\n",
            "74/74 [==============================] - 3s 36ms/step - loss: 0.6329 - accuracy: 0.7810 - val_loss: 0.6266 - val_accuracy: 0.7855\n",
            "Epoch 57/106\n",
            "74/74 [==============================] - 3s 36ms/step - loss: 0.6335 - accuracy: 0.7775 - val_loss: 0.6178 - val_accuracy: 0.7980\n",
            "Epoch 58/106\n",
            "74/74 [==============================] - 3s 36ms/step - loss: 0.6175 - accuracy: 0.7835 - val_loss: 0.6152 - val_accuracy: 0.7930\n",
            "Epoch 59/106\n",
            "74/74 [==============================] - 3s 36ms/step - loss: 0.6087 - accuracy: 0.7935 - val_loss: 0.6013 - val_accuracy: 0.7930\n",
            "Epoch 60/106\n",
            "74/74 [==============================] - 3s 36ms/step - loss: 0.5621 - accuracy: 0.8072 - val_loss: 0.5948 - val_accuracy: 0.7930\n",
            "Epoch 61/106\n",
            "74/74 [==============================] - 3s 37ms/step - loss: 0.5849 - accuracy: 0.7941 - val_loss: 0.5944 - val_accuracy: 0.8055\n",
            "Epoch 62/106\n",
            "74/74 [==============================] - 3s 36ms/step - loss: 0.5598 - accuracy: 0.8070 - val_loss: 0.6069 - val_accuracy: 0.7980\n",
            "Epoch 63/106\n",
            "74/74 [==============================] - 3s 36ms/step - loss: 0.5661 - accuracy: 0.8067 - val_loss: 0.5868 - val_accuracy: 0.8105\n",
            "Epoch 64/106\n",
            "74/74 [==============================] - 3s 36ms/step - loss: 0.5714 - accuracy: 0.8063 - val_loss: 0.5914 - val_accuracy: 0.8030\n",
            "Epoch 65/106\n",
            "74/74 [==============================] - 3s 36ms/step - loss: 0.5103 - accuracy: 0.8273 - val_loss: 0.6241 - val_accuracy: 0.7980\n",
            "Epoch 66/106\n",
            "74/74 [==============================] - 3s 36ms/step - loss: 0.5295 - accuracy: 0.8184 - val_loss: 0.6001 - val_accuracy: 0.7980\n",
            "Epoch 67/106\n",
            "74/74 [==============================] - 3s 36ms/step - loss: 0.5059 - accuracy: 0.8197 - val_loss: 0.6081 - val_accuracy: 0.8055\n",
            "Epoch 68/106\n",
            "74/74 [==============================] - 3s 36ms/step - loss: 0.4946 - accuracy: 0.8277 - val_loss: 0.6012 - val_accuracy: 0.8030\n",
            "Epoch 69/106\n",
            "74/74 [==============================] - 3s 36ms/step - loss: 0.4865 - accuracy: 0.8237 - val_loss: 0.5728 - val_accuracy: 0.7980\n",
            "Epoch 70/106\n",
            "74/74 [==============================] - 3s 36ms/step - loss: 0.4529 - accuracy: 0.8370 - val_loss: 0.5617 - val_accuracy: 0.8055\n",
            "Epoch 71/106\n",
            "74/74 [==============================] - 3s 36ms/step - loss: 0.4402 - accuracy: 0.8470 - val_loss: 0.5893 - val_accuracy: 0.8005\n",
            "Epoch 72/106\n",
            "74/74 [==============================] - 3s 37ms/step - loss: 0.4737 - accuracy: 0.8331 - val_loss: 0.5558 - val_accuracy: 0.8180\n",
            "Epoch 73/106\n",
            "74/74 [==============================] - 3s 36ms/step - loss: 0.4378 - accuracy: 0.8367 - val_loss: 0.5633 - val_accuracy: 0.8130\n",
            "Epoch 74/106\n",
            "74/74 [==============================] - 3s 36ms/step - loss: 0.4337 - accuracy: 0.8517 - val_loss: 0.5824 - val_accuracy: 0.8130\n",
            "Epoch 75/106\n",
            "74/74 [==============================] - 3s 37ms/step - loss: 0.4223 - accuracy: 0.8529 - val_loss: 0.5421 - val_accuracy: 0.8279\n",
            "Epoch 76/106\n",
            "74/74 [==============================] - 3s 36ms/step - loss: 0.3937 - accuracy: 0.8602 - val_loss: 0.5682 - val_accuracy: 0.8254\n",
            "Epoch 77/106\n",
            "74/74 [==============================] - 3s 36ms/step - loss: 0.3994 - accuracy: 0.8614 - val_loss: 0.5476 - val_accuracy: 0.8229\n",
            "Epoch 78/106\n",
            "74/74 [==============================] - 3s 36ms/step - loss: 0.4033 - accuracy: 0.8569 - val_loss: 0.5684 - val_accuracy: 0.8105\n",
            "Epoch 79/106\n",
            "74/74 [==============================] - 3s 36ms/step - loss: 0.4147 - accuracy: 0.8541 - val_loss: 0.5315 - val_accuracy: 0.8105\n",
            "Epoch 80/106\n",
            "74/74 [==============================] - 3s 36ms/step - loss: 0.3776 - accuracy: 0.8716 - val_loss: 0.5394 - val_accuracy: 0.8180\n",
            "Epoch 81/106\n",
            "74/74 [==============================] - 3s 36ms/step - loss: 0.3557 - accuracy: 0.8707 - val_loss: 0.5920 - val_accuracy: 0.8080\n",
            "Epoch 82/106\n",
            "74/74 [==============================] - 3s 36ms/step - loss: 0.3733 - accuracy: 0.8692 - val_loss: 0.5266 - val_accuracy: 0.8180\n",
            "Epoch 83/106\n",
            "74/74 [==============================] - 3s 36ms/step - loss: 0.3530 - accuracy: 0.8671 - val_loss: 0.5365 - val_accuracy: 0.8254\n",
            "Epoch 84/106\n",
            "74/74 [==============================] - 3s 36ms/step - loss: 0.3213 - accuracy: 0.8892 - val_loss: 0.5283 - val_accuracy: 0.8379\n",
            "Epoch 85/106\n",
            "74/74 [==============================] - 3s 36ms/step - loss: 0.3627 - accuracy: 0.8740 - val_loss: 0.5676 - val_accuracy: 0.8055\n",
            "Epoch 86/106\n",
            "74/74 [==============================] - 3s 36ms/step - loss: 0.3044 - accuracy: 0.8957 - val_loss: 0.5500 - val_accuracy: 0.8304\n",
            "Epoch 87/106\n",
            "74/74 [==============================] - 3s 36ms/step - loss: 0.3320 - accuracy: 0.8864 - val_loss: 0.5808 - val_accuracy: 0.8279\n",
            "Epoch 88/106\n",
            "74/74 [==============================] - 3s 36ms/step - loss: 0.3356 - accuracy: 0.8804 - val_loss: 0.5788 - val_accuracy: 0.8254\n",
            "Epoch 89/106\n",
            "74/74 [==============================] - 3s 36ms/step - loss: 0.3049 - accuracy: 0.8825 - val_loss: 0.5805 - val_accuracy: 0.8204\n",
            "Epoch 90/106\n",
            "74/74 [==============================] - 3s 37ms/step - loss: 0.3133 - accuracy: 0.8841 - val_loss: 0.5484 - val_accuracy: 0.8279\n",
            "Epoch 91/106\n",
            "74/74 [==============================] - 3s 36ms/step - loss: 0.2818 - accuracy: 0.8975 - val_loss: 0.5811 - val_accuracy: 0.8155\n",
            "Epoch 92/106\n",
            "74/74 [==============================] - 3s 36ms/step - loss: 0.2654 - accuracy: 0.9029 - val_loss: 0.5584 - val_accuracy: 0.8279\n",
            "Epoch 93/106\n",
            "74/74 [==============================] - 3s 36ms/step - loss: 0.2670 - accuracy: 0.9085 - val_loss: 0.5610 - val_accuracy: 0.8329\n",
            "Epoch 94/106\n",
            "74/74 [==============================] - 3s 37ms/step - loss: 0.2630 - accuracy: 0.9099 - val_loss: 0.5675 - val_accuracy: 0.8279\n",
            "Epoch 95/106\n",
            "74/74 [==============================] - 3s 36ms/step - loss: 0.2689 - accuracy: 0.9043 - val_loss: 0.5596 - val_accuracy: 0.8254\n",
            "Epoch 96/106\n",
            "74/74 [==============================] - 3s 37ms/step - loss: 0.2456 - accuracy: 0.9164 - val_loss: 0.5808 - val_accuracy: 0.8254\n",
            "Epoch 97/106\n",
            "74/74 [==============================] - 3s 36ms/step - loss: 0.2431 - accuracy: 0.9134 - val_loss: 0.5826 - val_accuracy: 0.8429\n",
            "Epoch 98/106\n",
            "74/74 [==============================] - 3s 37ms/step - loss: 0.2230 - accuracy: 0.9199 - val_loss: 0.5695 - val_accuracy: 0.8404\n",
            "Epoch 99/106\n",
            "74/74 [==============================] - 3s 36ms/step - loss: 0.2392 - accuracy: 0.9175 - val_loss: 0.5651 - val_accuracy: 0.8254\n",
            "Epoch 100/106\n",
            "74/74 [==============================] - 3s 36ms/step - loss: 0.2198 - accuracy: 0.9209 - val_loss: 0.5729 - val_accuracy: 0.8429\n",
            "Epoch 101/106\n",
            "74/74 [==============================] - 3s 36ms/step - loss: 0.2155 - accuracy: 0.9237 - val_loss: 0.5672 - val_accuracy: 0.8354\n",
            "Epoch 102/106\n",
            "74/74 [==============================] - 3s 38ms/step - loss: 0.2271 - accuracy: 0.9151 - val_loss: 0.5895 - val_accuracy: 0.8379\n",
            "Epoch 103/106\n",
            "74/74 [==============================] - 3s 36ms/step - loss: 0.2148 - accuracy: 0.9224 - val_loss: 0.5636 - val_accuracy: 0.8279\n",
            "Epoch 104/106\n",
            "74/74 [==============================] - 3s 36ms/step - loss: 0.2092 - accuracy: 0.9279 - val_loss: 0.5563 - val_accuracy: 0.8279\n",
            "Epoch 105/106\n",
            "74/74 [==============================] - 3s 36ms/step - loss: 0.2021 - accuracy: 0.9286 - val_loss: 0.5489 - val_accuracy: 0.8529\n",
            "Epoch 106/106\n",
            "74/74 [==============================] - 3s 36ms/step - loss: 0.2359 - accuracy: 0.9196 - val_loss: 0.5629 - val_accuracy: 0.8229\n",
            "\n",
            "----------------------------------------------------\n",
            "\n",
            "Test loss: 0.562873363494873\n",
            "Test accuracy: 0.8229426145553589\n",
            "\n",
            "----------------------------------------------------\n",
            "\n"
          ],
          "name": "stdout"
        }
      ]
    },
    {
      "cell_type": "markdown",
      "metadata": {
        "id": "G3A2fMKJ8pr0"
      },
      "source": [
        "# Matriz de confusão"
      ]
    },
    {
      "cell_type": "code",
      "metadata": {
        "id": "-Dz3emwP8pr0",
        "colab": {
          "base_uri": "https://localhost:8080/"
        },
        "outputId": "3c22b85e-fcdb-4305-f2ca-85e82b58a2ec"
      },
      "source": [
        "pred = []\n",
        "y_pred = model.predict_classes(x_test)\n",
        "# y_pred = y_prob.argmax(axis=-1)\n",
        "for i in range(len(x_test)):\n",
        "\tpred.append(y_pred[i])\n",
        "print (confusion_matrix(label, pred))\n"
      ],
      "execution_count": null,
      "outputs": [
        {
          "output_type": "stream",
          "text": [
            "/usr/local/lib/python3.7/dist-packages/keras/engine/sequential.py:450: UserWarning: `model.predict_classes()` is deprecated and will be removed after 2021-01-01. Please use instead:* `np.argmax(model.predict(x), axis=-1)`,   if your model does multi-class classification   (e.g. if it uses a `softmax` last-layer activation).* `(model.predict(x) > 0.5).astype(\"int32\")`,   if your model does binary classification   (e.g. if it uses a `sigmoid` last-layer activation).\n",
            "  warnings.warn('`model.predict_classes()` is deprecated and '\n"
          ],
          "name": "stderr"
        },
        {
          "output_type": "stream",
          "text": [
            "[[31  4  0  0  0  1  1  2  0  0  0  0]\n",
            " [ 5 26  0  0  0  0  0  0  0  0  1  0]\n",
            " [ 0  0 35  0  1  0  0  0  0  0  0  0]\n",
            " [ 1  0  0 34  0  1  0  0  3  0  0  0]\n",
            " [ 0  0  0  9 28  0  0  0  0  0  1  0]\n",
            " [ 3  0  0  0  0 21  3  2  0  0  0  0]\n",
            " [ 1  0  0  0  2  4 25  0  0  0  0  0]\n",
            " [ 0  0  0  0  1  1  0 24  0  0  1  1]\n",
            " [ 0  0  0  1  0  0  0  0 25  2  1  2]\n",
            " [ 0  0  0  0  0  0  0  0  0 30  0  0]\n",
            " [ 0  2  0  0  0  0  0  0  1  0 31  0]\n",
            " [ 1  1  0  0  0  0  0  1  5  0  5 20]]\n"
          ],
          "name": "stdout"
        }
      ]
    },
    {
      "cell_type": "markdown",
      "metadata": {
        "id": "G1lpQ4iE8pr0"
      },
      "source": [
        "# Plotando gráficos"
      ]
    },
    {
      "cell_type": "code",
      "metadata": {
        "id": "1CYRziah8pr1",
        "colab": {
          "base_uri": "https://localhost:8080/",
          "height": 545
        },
        "outputId": "346de533-d5d5-4df3-ea48-d8f97fdcf77a"
      },
      "source": [
        "acc = history.history['accuracy'] # history['acc'] / history['accuracy']\n",
        "val_acc = history.history['val_accuracy'] # history['val_acc'] / history['val_accuracy']\n",
        "loss = history.history['loss']\n",
        "val_loss = history.history['val_loss']\n",
        " \n",
        "epochs = range(len(acc))\n",
        " \n",
        "plt.plot(epochs, acc, 'g', label='Training acc')\n",
        "plt.plot(epochs, val_acc, 'r', label='Validation acc')\n",
        "plt.title('Training and validation accuracy')\n",
        "plt.legend()\n",
        " \n",
        "plt.figure()\n",
        " \n",
        "plt.plot(epochs, loss, 'g', label='Training loss')\n",
        "plt.plot(epochs, val_loss, 'r', label='Validation loss')\n",
        "plt.title('Training and validation loss')\n",
        "plt.legend()\n",
        " \n",
        "plt.show()"
      ],
      "execution_count": null,
      "outputs": [
        {
          "output_type": "display_data",
          "data": {
            "image/png": "[encoded data removed]",
            "text/plain": [
              "<Figure size 432x288 with 1 Axes>"
            ]
          },
          "metadata": {
            "tags": [],
            "needs_background": "light"
          }
        },
        {
          "output_type": "display_data",
          "data": {
            "image/png": "[encoded data removed]",
            "text/plain": [
              "<Figure size 432x288 with 1 Axes>"
            ]
          },
          "metadata": {
            "tags": [],
            "needs_background": "light"
          }
        }
      ]
    }
  ]
}